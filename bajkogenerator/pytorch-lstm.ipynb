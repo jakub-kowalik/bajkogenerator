{
 "cells": [
  {
   "cell_type": "code",
   "execution_count": null,
   "metadata": {
    "execution": {
     "iopub.execute_input": "2023-08-26T01:36:41.386084Z",
     "iopub.status.busy": "2023-08-26T01:36:41.382531Z",
     "iopub.status.idle": "2023-08-26T01:36:41.395455Z",
     "shell.execute_reply": "2023-08-26T01:36:41.394010Z",
     "shell.execute_reply.started": "2023-08-26T01:36:41.386031Z"
    },
    "trusted": true
   },
   "outputs": [],
   "source": [
    "import torch\n",
    "\n",
    "from tqdm import tqdm"
   ]
  },
  {
   "cell_type": "code",
   "execution_count": null,
   "metadata": {
    "execution": {
     "iopub.execute_input": "2023-08-26T01:36:41.405400Z",
     "iopub.status.busy": "2023-08-26T01:36:41.404517Z",
     "iopub.status.idle": "2023-08-26T01:36:41.424735Z",
     "shell.execute_reply": "2023-08-26T01:36:41.417061Z",
     "shell.execute_reply.started": "2023-08-26T01:36:41.405356Z"
    },
    "trusted": true
   },
   "outputs": [],
   "source": [
    "embedding_size = 100\n",
    "sequence_length = 128\n",
    "lstm_size = 256\n",
    "bidirectional = True\n",
    "n_layer = 2\n",
    "dropout = 0.5\n",
    "epochs = 10000\n",
    "batch_size = 256\n",
    "vocab_size = 50560\n",
    "lr = 1e-3\n",
    "num_workers = 1\n",
    "\n",
    "checkpoint_interval = 100\n",
    "save_path = \"./\"\n",
    "train_data_path = \"./data/train.txt\"\n",
    "\n",
    "device = torch.device(\"cuda\" if torch.cuda.is_available() else \"cpu\")"
   ]
  },
  {
   "cell_type": "markdown",
   "metadata": {},
   "source": [
    "### Define stuff\n",
    "\n",
    "So notebook can be run on colab/kaggle"
   ]
  },
  {
   "cell_type": "code",
   "execution_count": null,
   "metadata": {
    "execution": {
     "iopub.execute_input": "2023-08-26T01:36:41.747125Z",
     "iopub.status.busy": "2023-08-26T01:36:41.746808Z",
     "iopub.status.idle": "2023-08-26T01:36:41.763547Z",
     "shell.execute_reply": "2023-08-26T01:36:41.762550Z",
     "shell.execute_reply.started": "2023-08-26T01:36:41.747099Z"
    },
    "trusted": true
   },
   "outputs": [],
   "source": [
    "import torchdata.dataloader2 as dl2\n",
    "import torchdata.datapipes as dp\n",
    "\n",
    "\n",
    "class StoryDataset:\n",
    "    def __init__(\n",
    "            self,\n",
    "            root,\n",
    "            batch_size=1,\n",
    "            num_workers=1,\n",
    "            shuffle=True,\n",
    "            drop_last=False,\n",
    "            sequence_size=32,\n",
    "            pad_idx=2,\n",
    "    ):\n",
    "        self.sequence_size = sequence_size\n",
    "        self.pad_idx = pad_idx\n",
    "\n",
    "        datapipe = dp.iter.FileLister(root, recursive=True).filter(\n",
    "            filter_fn=self.filter_fn\n",
    "        )\n",
    "        datapipe = dp.iter.FileOpener(datapipe, mode=\"rt\")\n",
    "        datapipe = dp.iter.StreamReader(datapipe)\n",
    "        datapipe = dp.iter.Mapper(datapipe, fn=self.map_fn)\n",
    "        datapipe = (\n",
    "            dp.iter.FlatMapper(datapipe, fn=self.batch_fn).shuffle().sharding_filter()\n",
    "        )\n",
    "        datapipe = dp.iter.Batcher(datapipe, batch_size=batch_size, drop_last=drop_last)\n",
    "\n",
    "        self.dloader2 = dl2.DataLoader2(\n",
    "            datapipe,\n",
    "            reading_service=dl2.MultiProcessingReadingService(num_workers=num_workers),\n",
    "            datapipe_adapter_fn=dl2.adapter.Shuffle(shuffle),\n",
    "        )\n",
    "\n",
    "    def __iter__(self):\n",
    "        return self.dloader2.__iter__()\n",
    "\n",
    "    def map_fn(self, x):\n",
    "        return (self.sequence_size - 1) * [self.pad_idx] + [\n",
    "            int(y) for y in x[1].split(\",\")\n",
    "        ]\n",
    "\n",
    "    def batch_fn(self, x):\n",
    "        return [\n",
    "            x[i: i + self.sequence_size + 1]\n",
    "            for i in range(0, len(x) - self.sequence_size)\n",
    "        ]\n",
    "\n",
    "    @staticmethod\n",
    "    def filter_fn(name):\n",
    "        return name.endswith(\".txt\")\n"
   ]
  },
  {
   "cell_type": "code",
   "execution_count": null,
   "outputs": [],
   "source": [
    "import torch\n",
    "import torch.nn as nn\n",
    "import torch.nn.functional as F\n",
    "\n",
    "\n",
    "# from ..utils.generation_utils import (\n",
    "#     top_k_top_p_filtering,\n",
    "#     greedy_search,\n",
    "#     multinomial_sampling,\n",
    "#     temperature_softmax,\n",
    "# )\n",
    "\n",
    "\n",
    "class LSTMTextGenerator(nn.Module):\n",
    "    def __init__(\n",
    "            self,\n",
    "            vocab_size,\n",
    "            emb_size,\n",
    "            lstm_size,\n",
    "            lstm_layers=1,\n",
    "            lstm_bidirectional=False,\n",
    "            lstm_dropout=0.2,\n",
    "            use_gru=False,\n",
    "            pad_idx=2,\n",
    "            seq_len=20,\n",
    "    ):\n",
    "        super(LSTMTextGenerator, self).__init__()\n",
    "\n",
    "        self.pad_idx = pad_idx\n",
    "\n",
    "        self.seq_len = seq_len\n",
    "\n",
    "        self.embedding = nn.Embedding(\n",
    "            num_embeddings=vocab_size, embedding_dim=emb_size, padding_idx=pad_idx\n",
    "        )\n",
    "\n",
    "        self.lstm = (\n",
    "            nn.LSTM(\n",
    "                input_size=emb_size,\n",
    "                hidden_size=lstm_size,\n",
    "                num_layers=lstm_layers,\n",
    "                batch_first=True,\n",
    "                dropout=lstm_dropout,\n",
    "                bidirectional=lstm_bidirectional,\n",
    "            )\n",
    "            if not use_gru\n",
    "            else nn.GRU(\n",
    "                input_size=emb_size,\n",
    "                hidden_size=lstm_size,\n",
    "                num_layers=lstm_layers,\n",
    "                batch_first=True,\n",
    "                dropout=lstm_dropout,\n",
    "                bidirectional=lstm_bidirectional,\n",
    "            )\n",
    "        )\n",
    "\n",
    "        self.dropout = nn.Dropout(lstm_dropout)\n",
    "\n",
    "        self.fc1 = nn.Linear(\n",
    "            in_features=lstm_size * 2 if lstm_bidirectional else lstm_size,\n",
    "            out_features=vocab_size,\n",
    "        )\n",
    "\n",
    "        # self.softmax = torch.nn.LogSoftmax(dim=1)\n",
    "\n",
    "    def forward(self, inputs):  # add typing later\n",
    "        embedded = self.embedding(inputs)\n",
    "\n",
    "        lstm_output, _ = self.lstm(embedded)\n",
    "\n",
    "        dropped = self.dropout(lstm_output[:, -1, :])\n",
    "        output = self.fc1(dropped)\n",
    "\n",
    "        return output\n",
    "\n",
    "    def generate(\n",
    "            self,\n",
    "            start_text,\n",
    "            length=100,\n",
    "            temperature=1.0,\n",
    "            strategy=\"top_k_top_p\",\n",
    "            top_k=0,\n",
    "            top_p=1.0,\n",
    "            n_samples=1,\n",
    "    ):\n",
    "        assert not self.training\n",
    "        starter = start_text\n",
    "\n",
    "        with torch.no_grad():\n",
    "            for i in range(length):\n",
    "                inp = torch.LongTensor([starter[-self.seq_len:]])\n",
    "                pred = self.forward(inp)\n",
    "\n",
    "                logits = pred / temperature\n",
    "                if strategy == \"greedy\":\n",
    "                    out = greedy_search(logits)\n",
    "                elif strategy == \"multinomial\":\n",
    "                    out = torch.nn.functional.softmax(logits, dim=1)\n",
    "                    out = multinomial_sampling(out, n_samples=n_samples)\n",
    "                elif strategy == \"top_k_top_p\":\n",
    "                    out = top_k_top_p_filtering(logits, top_k=top_k, top_p=top_p)\n",
    "                    out = torch.nn.functional.softmax(out, dim=1)\n",
    "                    out = multinomial_sampling(out, n_samples=n_samples)\n",
    "\n",
    "                starter.append(out.item())\n",
    "                if out == 1:\n",
    "                    break\n",
    "\n",
    "        return starter\n"
   ],
   "metadata": {
    "collapsed": false
   }
  },
  {
   "cell_type": "markdown",
   "metadata": {},
   "source": [
    "# Initialize classes"
   ]
  },
  {
   "cell_type": "code",
   "execution_count": null,
   "metadata": {
    "trusted": true
   },
   "outputs": [],
   "source": [
    "lstm = LSTMTextGenerator(\n",
    "    vocab_size=vocab_size,\n",
    "    emb_size=embedding_size,\n",
    "    lstm_size=lstm_size,\n",
    "    lstm_layers=n_layer,\n",
    "    lstm_bidirectional=bidirectional,\n",
    "    lstm_dropout=dropout,\n",
    "    pad_idx=2,\n",
    "    seq_len=sequence_length,\n",
    ")\n",
    "lstm.to(device)"
   ]
  },
  {
   "cell_type": "code",
   "execution_count": null,
   "outputs": [],
   "source": [
    "data_loader = StoryDataset(\n",
    "    train_data_path,\n",
    "    batch_size=batch_size,\n",
    "    num_workers=num_workers,\n",
    "    sequence_size=sequence_length,\n",
    ")"
   ],
   "metadata": {
    "collapsed": false
   }
  },
  {
   "cell_type": "code",
   "execution_count": null,
   "outputs": [],
   "source": [
    "optimizer = torch.optim.RAdam(lstm.parameters(), lr=lr)\n",
    "criterion = torch.nn.CrossEntropyLoss()"
   ],
   "metadata": {
    "collapsed": false
   }
  },
  {
   "cell_type": "markdown",
   "metadata": {},
   "source": [
    "# Training"
   ]
  },
  {
   "cell_type": "code",
   "execution_count": null,
   "metadata": {
    "execution": {
     "iopub.execute_input": "2023-08-26T01:36:42.264256Z",
     "iopub.status.busy": "2023-08-26T01:36:42.263321Z",
     "iopub.status.idle": "2023-08-26T01:36:50.987558Z",
     "shell.execute_reply": "2023-08-26T01:36:50.985279Z",
     "shell.execute_reply.started": "2023-08-26T01:36:42.264220Z"
    },
    "trusted": true
   },
   "outputs": [],
   "source": [
    "lstm.train()\n",
    "\n",
    "for epoch in tqdm(range(1, epochs + 1)):\n",
    "    running_loss = 0.0\n",
    "\n",
    "    for batch in tqdm(data_loader):\n",
    "        batch_tensor = torch.LongTensor(batch).to(device)\n",
    "\n",
    "        x_batch = batch_tensor[:, :sequence_length]\n",
    "        y_batch = batch_tensor[:, sequence_length]\n",
    "\n",
    "        lstm.zero_grad()\n",
    "\n",
    "        output = lstm(x_batch)\n",
    "\n",
    "        loss = criterion(output, y_batch)\n",
    "\n",
    "        running_loss += loss.item()\n",
    "\n",
    "        loss.backward()\n",
    "\n",
    "        nn.utils.clip_grad_norm_(lstm.parameters(), 0.5)  # \n",
    "\n",
    "        optimizer.step()\n",
    "\n",
    "    print(f\"Epoch {epoch}, loss: {running_loss}\")\n",
    "\n",
    "    if epoch % checkpoint_interval == 0:\n",
    "        save_name = (\n",
    "            f\"embedding_size_{embedding_size}_\"\n",
    "            f\"sequence_length_{sequence_length}_\"\n",
    "            f\"lstm_size_{lstm_size}_\"\n",
    "            f\"bidirectional_{bidirectional}_\"\n",
    "            f\"n_layer_{n_layer}_\"\n",
    "            f\"dropout_{dropout}_\"\n",
    "            f\"epoch_{epoch}_\"\n",
    "            f\"class_{lstm.__class__.__name__}.pth\"\n",
    "        )\n",
    "        torch.save(lstm.state_dict(), save_path + save_name)"
   ]
  }
 ],
 "metadata": {
  "kernelspec": {
   "display_name": "Python 3",
   "language": "python",
   "name": "python3"
  },
  "language_info": {
   "codemirror_mode": {
    "name": "ipython",
    "version": 3
   },
   "file_extension": ".py",
   "mimetype": "text/x-python",
   "name": "python",
   "nbconvert_exporter": "python",
   "pygments_lexer": "ipython3",
   "version": "3.11.3"
  }
 },
 "nbformat": 4,
 "nbformat_minor": 4
}
