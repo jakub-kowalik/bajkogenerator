{
 "cells": [
  {
   "cell_type": "code",
   "execution_count": 1,
   "id": "initial_id",
   "metadata": {
    "collapsed": true,
    "ExecuteTime": {
     "end_time": "2023-09-11T18:33:11.404218614Z",
     "start_time": "2023-09-11T18:26:04.947776613Z"
    }
   },
   "outputs": [
    {
     "name": "stdout",
     "output_type": "stream",
     "text": [
      "Running on local URL:  http://0.0.0.0:7860\r\n",
      "\r\n",
      "Thanks for being a Gradio user! If you have questions or feedback, please join our Discord server and chat with us: https://discord.gg/feTf9x3ZSB\r\n",
      "\r\n",
      "To create a public link, set `share=True` in `launch()`.\r\n",
      "^C\r\n",
      "Keyboard interruption in main thread... closing server.\r\n"
     ]
    }
   ],
   "source": [
    "!python gradio_text_generation.py \\\n",
    "    --transformer-model-path /weights/embedding_size_100_block_size_128_n_head_8_n_layer_8_dropout_0.2_epoch_9_class_DecoderOnlyTransformer.pth \\\n",
    "    --lstm-model-path /weights/embedding_size_100_sequence_length_128_lstm_size_256_bidirectional_True_n_layer_3_dropout_0.5_epoch_32_class_LSTMTextGenerator.pth"
   ]
  }
 ],
 "metadata": {
  "kernelspec": {
   "display_name": "Python 3",
   "language": "python",
   "name": "python3"
  },
  "language_info": {
   "codemirror_mode": {
    "name": "ipython",
    "version": 2
   },
   "file_extension": ".py",
   "mimetype": "text/x-python",
   "name": "python",
   "nbconvert_exporter": "python",
   "pygments_lexer": "ipython2",
   "version": "2.7.6"
  }
 },
 "nbformat": 4,
 "nbformat_minor": 5
}
