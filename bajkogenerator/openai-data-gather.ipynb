{
 "cells": [
  {
   "cell_type": "code",
   "execution_count": 15,
   "id": "initial_id",
   "metadata": {
    "collapsed": true,
    "ExecuteTime": {
     "end_time": "2023-09-07T13:36:16.704757333Z",
     "start_time": "2023-09-07T13:36:16.327665927Z"
    }
   },
   "outputs": [
    {
     "name": "stdout",
     "output_type": "stream",
     "text": [
      "usage: openai-gpt.py [-h] [--n-iter N_ITER] [--n-tales N_TALES] [--path PATH]\r\n",
      "                     [--maximum-tokens MAXIMUM_TOKENS] [--api-key API_KEY]\r\n",
      "\r\n",
      "options:\r\n",
      "  -h, --help            show this help message and exit\r\n",
      "  --n-iter N_ITER       Number of iterations of gathering (default: 1)\r\n",
      "  --n-tales N_TALES     Number of tales in one iteration (default: 1)\r\n",
      "  --path PATH           Path to directory where fairy tales will be saved\r\n",
      "                        (default: ./)\r\n",
      "  --maximum-tokens MAXIMUM_TOKENS\r\n",
      "                        Maximum number of tokens in one fairy tale (Needs to\r\n",
      "                        be scaled with n_tales to meet OpenAI API limits)\r\n",
      "                        (default: 3700)\r\n",
      "  --api-key API_KEY     OpenAI API key (If not provided defaults to\r\n",
      "                        OPENAI_API_KEY environment variable) (default: None)\r\n"
     ]
    }
   ],
   "source": [
    "!python data/gathering/openai-gpt.py \\\n",
    "    --n-iter 1 \\\n",
    "    --n-tales 1 \\\n",
    "    --path ./ \\\n",
    "    --maximum-tokens 3700 \\\n",
    "    --api-key $(printenv OPENAI_API_KEY)"
   ]
  }
 ],
 "metadata": {
  "kernelspec": {
   "display_name": "Python 3",
   "language": "python",
   "name": "python3"
  },
  "language_info": {
   "codemirror_mode": {
    "name": "ipython",
    "version": 2
   },
   "file_extension": ".py",
   "mimetype": "text/x-python",
   "name": "python",
   "nbconvert_exporter": "python",
   "pygments_lexer": "ipython2",
   "version": "2.7.6"
  }
 },
 "nbformat": 4,
 "nbformat_minor": 5
}
